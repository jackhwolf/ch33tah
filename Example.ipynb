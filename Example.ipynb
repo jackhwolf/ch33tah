{
 "cells": [
  {
   "cell_type": "code",
   "execution_count": 1,
   "metadata": {},
   "outputs": [
    {
     "name": "stdout",
     "output_type": "stream",
     "text": [
      "Data,  (2000, 4)\n",
      "[[ 4.17022005e-01  7.20324493e-01  1.14374817e-04 -1.00000000e+00]\n",
      " [ 3.02332573e-01  1.46755891e-01  9.23385948e-02  1.00000000e+00]\n",
      " [ 1.86260211e-01  3.45560727e-01  3.96767474e-01 -1.00000000e+00]\n",
      " ...\n",
      " [ 6.70183139e-01  9.73577973e-01  4.65108735e-01 -1.00000000e+00]\n",
      " [ 1.04017062e-01  2.41474170e-02  8.81300204e-01  1.00000000e+00]\n",
      " [ 2.61910196e-02  9.50827989e-01  5.69917642e-01 -1.00000000e+00]]\n"
     ]
    }
   ],
   "source": [
    "from ch33tah.core import Ch33tah, Ch33tahRetest\n",
    "from ch33tah.dataset import Dataset\n",
    "import numpy as np\n",
    "import json\n",
    "\n",
    "''' lets make some data '''\n",
    "def makedata(r):\n",
    "  X = np.random.rand(r, 3)\n",
    "  y = np.sign(2*X[:,0] - 5*X[:,1] + 3*X[:,2])\n",
    "  y = np.expand_dims(y, axis=1)\n",
    "  X = np.hstack((X, y))\n",
    "  return X\n",
    "\n",
    "X = makedata(2000)\n",
    "\n",
    "print(\"Data, \", X.shape)\n",
    "print(X, end='\\n', sep='\\n\\n')"
   ]
  },
  {
   "cell_type": "code",
   "execution_count": 2,
   "metadata": {},
   "outputs": [
    {
     "name": "stdout",
     "output_type": "stream",
     "text": [
      "['SGDClassifier', 'Perceptron', 'DecisionTreeClassifier', 'LinearSVC', 'XGBClassifier', 'SVC']\n",
      "exampletest-classification-3135011583\n"
     ]
    }
   ],
   "source": [
    "''' setup the ch33tah stuff and run it, then save the models. While its running, check the console \n",
    "output. youll see  lots of jumbled output like $ 1 2 START, meaning that the first hyperparameter \n",
    "set is starting training on the 2nd CV fold. you should see jumbled output where multiple (hp, cv) \n",
    "sets are going at the same time. if not please check out an issue! \n",
    "\n",
    "results is a big dictionary mapping \n",
    "      { model name: \n",
    "             {\"model\": sklearn obj, \"avg_performance\": float},\n",
    "       ... }\n",
    "'''\n",
    "\n",
    "core = Ch33tah(X, 3, 'classification', 'exampleTest')\n",
    "results = core.ch33t()\n",
    "print(list(results.keys()))\n",
    "bucket_name = core.save_models(results)\n",
    "print(bucket_name)"
   ]
  },
  {
   "cell_type": "code",
   "execution_count": 3,
   "metadata": {},
   "outputs": [
    {
     "name": "stdout",
     "output_type": "stream",
     "text": [
      "['DecisionTreeClassifier', 'LinearSVC', 'Perceptron', 'SGDClassifier', 'SVC', 'XGBClassifier']\n",
      "\n",
      "DecisionTreeClassifier\n",
      "\t [-1. -1.  1. ...  1. -1.  1.]\n",
      "\t {'accuracy': 0.9525}\n",
      "LinearSVC\n",
      "\t [-1. -1.  1. ...  1. -1.  1.]\n",
      "\t {'accuracy': 0.9685}\n",
      "Perceptron\n",
      "\t [-1. -1.  1. ...  1. -1.  1.]\n",
      "\t {'accuracy': 0.9955}\n",
      "SGDClassifier\n",
      "\t [-1. -1.  1. ...  1. -1.  1.]\n",
      "\t {'accuracy': 0.9895}\n",
      "SVC\n",
      "\t [1. 1. 1. ... 1. 1. 1.]\n",
      "\t {'accuracy': 0.5015}\n",
      "XGBClassifier\n",
      "\t [-1.  1.  1. ... -1. -1.  1.]\n",
      "\t {'accuracy': 0.9015}\n"
     ]
    }
   ],
   "source": [
    "''' ... some time later, reload the models and see how we perform on test data '''\n",
    "core_rt = Ch33tahRetest('exampletest-classification-3134879021')\n",
    "models = core_rt.load_models()\n",
    "print(list(models.keys()))\n",
    "print()\n",
    "\n",
    "X2 = makedata(2000)\n",
    "X2 = Dataset(X2, 3)\n",
    "\n",
    "eval_res = core_rt.evaluate_test_set(X2)\n",
    "for model, res in eval_res.items():\n",
    "  print(model)\n",
    "  print(\"\\t\", res['predictions'])\n",
    "  print(\"\\t\", res['performance'])"
   ]
  }
 ],
 "metadata": {
  "kernelspec": {
   "display_name": "Python 3",
   "language": "python",
   "name": "python3"
  },
  "language_info": {
   "codemirror_mode": {
    "name": "ipython",
    "version": 3
   },
   "file_extension": ".py",
   "mimetype": "text/x-python",
   "name": "python",
   "nbconvert_exporter": "python",
   "pygments_lexer": "ipython3",
   "version": "3.6.8"
  }
 },
 "nbformat": 4,
 "nbformat_minor": 4
}
